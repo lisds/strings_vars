{
 "cells": [
  {
   "cell_type": "markdown",
   "id": "0e8f627e",
   "metadata": {},
   "source": [
    "# Strings and variables"
   ]
  },
  {
   "cell_type": "markdown",
   "id": "bdef3370",
   "metadata": {},
   "source": [
    "Strings are Python's way of storing bits of text.\n",
    "\n",
    "Variables have names, and it can be confusing when you are looking at a name,\n",
    "or a string.\n",
    "\n",
    "This notebook is to practice the distinction between the two."
   ]
  },
  {
   "cell_type": "code",
   "execution_count": 1,
   "id": "461a51b7",
   "metadata": {
    "execution": {
     "iopub.execute_input": "2022-11-16T21:43:54.635092Z",
     "iopub.status.busy": "2022-11-16T21:43:54.634645Z",
     "iopub.status.idle": "2022-11-16T21:43:54.725462Z",
     "shell.execute_reply": "2022-11-16T21:43:54.725056Z"
    }
   },
   "outputs": [],
   "source": [
    "# Run this cell to set up the notebook, but please don't change it.\n",
    "# These lines load the tests.\n",
    "from client.api.notebook import Notebook\n",
    "ok = Notebook('strings_vars.ok')"
   ]
  },
  {
   "cell_type": "markdown",
   "id": "e5d72947",
   "metadata": {},
   "source": [
    "Who isn't a Marvel fan? (that's rhetorical - if you aren't, please, just grin\n",
    "and bear it)."
   ]
  },
  {
   "cell_type": "markdown",
   "id": "bab8aa8b",
   "metadata": {},
   "source": [
    "In the next cell, make a variable with name `title` that has the value\n",
    "`\"Captain \"`.  Notice that `\"Captain \"` is a string, and `title` is a variable\n",
    "name.  Notice too that the string has a space at the end."
   ]
  },
  {
   "cell_type": "code",
   "execution_count": 2,
   "id": "17d137de",
   "metadata": {
    "execution": {
     "iopub.execute_input": "2022-11-16T21:43:54.727666Z",
     "iopub.status.busy": "2022-11-16T21:43:54.727511Z",
     "iopub.status.idle": "2022-11-16T21:43:54.732969Z",
     "shell.execute_reply": "2022-11-16T21:43:54.732635Z"
    }
   },
   "outputs": [],
   "source": [
    "title = \"Captain \"\n",
    "# Show the variable contents\n",
    "title"
   ]
  },
  {
   "cell_type": "code",
   "execution_count": 3,
   "id": "6dbdb381",
   "metadata": {
    "execution": {
     "iopub.execute_input": "2022-11-16T21:43:54.734871Z",
     "iopub.status.busy": "2022-11-16T21:43:54.734724Z",
     "iopub.status.idle": "2022-11-16T21:43:54.749143Z",
     "shell.execute_reply": "2022-11-16T21:43:54.748781Z"
    }
   },
   "outputs": [],
   "source": [
    "_ = ok.grade('q_captain')"
   ]
  },
  {
   "cell_type": "markdown",
   "id": "22e889b6",
   "metadata": {},
   "source": [
    "Now make another string with name `person`, and value `\"Marvel\"`."
   ]
  },
  {
   "cell_type": "code",
   "execution_count": 4,
   "id": "49d9b882",
   "metadata": {
    "execution": {
     "iopub.execute_input": "2022-11-16T21:43:54.752982Z",
     "iopub.status.busy": "2022-11-16T21:43:54.752842Z",
     "iopub.status.idle": "2022-11-16T21:43:54.755305Z",
     "shell.execute_reply": "2022-11-16T21:43:54.755004Z"
    }
   },
   "outputs": [],
   "source": [
    "person = \"Marvel\"\n",
    "# Show the value\n",
    "person"
   ]
  },
  {
   "cell_type": "code",
   "execution_count": 5,
   "id": "d81f82c2",
   "metadata": {
    "execution": {
     "iopub.execute_input": "2022-11-16T21:43:54.757162Z",
     "iopub.status.busy": "2022-11-16T21:43:54.757025Z",
     "iopub.status.idle": "2022-11-16T21:43:54.767407Z",
     "shell.execute_reply": "2022-11-16T21:43:54.767050Z"
    }
   },
   "outputs": [],
   "source": [
    "_ = ok.grade('q_marvel')"
   ]
  },
  {
   "cell_type": "markdown",
   "id": "1f1d85d7",
   "metadata": {},
   "source": [
    "Now use `title` and `person` to make a new variable `character`, that has the\n",
    "value `\"Captain Marvel\"`:"
   ]
  },
  {
   "cell_type": "code",
   "execution_count": 6,
   "id": "edf9f743",
   "metadata": {
    "execution": {
     "iopub.execute_input": "2022-11-16T21:43:54.771314Z",
     "iopub.status.busy": "2022-11-16T21:43:54.771162Z",
     "iopub.status.idle": "2022-11-16T21:43:54.773583Z",
     "shell.execute_reply": "2022-11-16T21:43:54.773287Z"
    }
   },
   "outputs": [],
   "source": [
    "character = title + person\n",
    "# Display the result\n",
    "character"
   ]
  },
  {
   "cell_type": "code",
   "execution_count": 7,
   "id": "f09b883c",
   "metadata": {
    "execution": {
     "iopub.execute_input": "2022-11-16T21:43:54.775379Z",
     "iopub.status.busy": "2022-11-16T21:43:54.775239Z",
     "iopub.status.idle": "2022-11-16T21:43:54.785737Z",
     "shell.execute_reply": "2022-11-16T21:43:54.785369Z"
    }
   },
   "outputs": [],
   "source": [
    "_ = ok.grade('q_capt_marvel')"
   ]
  },
  {
   "cell_type": "markdown",
   "id": "4807489b",
   "metadata": {},
   "source": [
    "Here I'm trying to make a new variable `another_character` by appending the\n",
    "string `\"America\"` to the value of `title`, but there's a mistake.  Fix the\n",
    "mistake."
   ]
  },
  {
   "cell_type": "code",
   "execution_count": 8,
   "id": "1d5eb3f0",
   "metadata": {
    "execution": {
     "iopub.execute_input": "2022-11-16T21:43:54.789241Z",
     "iopub.status.busy": "2022-11-16T21:43:54.789095Z",
     "iopub.status.idle": "2022-11-16T21:43:54.791524Z",
     "shell.execute_reply": "2022-11-16T21:43:54.791204Z"
    }
   },
   "outputs": [],
   "source": [
    "another_character = title + \"America\"\n",
    "# Display the result\n",
    "another_character"
   ]
  },
  {
   "cell_type": "code",
   "execution_count": 9,
   "id": "3150535e",
   "metadata": {
    "execution": {
     "iopub.execute_input": "2022-11-16T21:43:54.793440Z",
     "iopub.status.busy": "2022-11-16T21:43:54.793295Z",
     "iopub.status.idle": "2022-11-16T21:43:54.802185Z",
     "shell.execute_reply": "2022-11-16T21:43:54.801827Z"
    }
   },
   "outputs": [],
   "source": [
    "_ = ok.grade('q_capt_america')"
   ]
  },
  {
   "cell_type": "markdown",
   "id": "4f85ef5e",
   "metadata": {},
   "source": [
    "Here I'm trying to make a new variable `third_character` by appending the\n",
    "string `\"Carter\"` to the string `\"Peggy \"`, to get the value `\"Peggy Carter\"`,\n",
    "but there are some mistakes.  Fix the mistakes."
   ]
  },
  {
   "cell_type": "code",
   "execution_count": 10,
   "id": "81ee122d",
   "metadata": {
    "execution": {
     "iopub.execute_input": "2022-11-16T21:43:54.805917Z",
     "iopub.status.busy": "2022-11-16T21:43:54.805777Z",
     "iopub.status.idle": "2022-11-16T21:43:54.808218Z",
     "shell.execute_reply": "2022-11-16T21:43:54.807913Z"
    }
   },
   "outputs": [],
   "source": [
    "third_character = 'Peggy ' + 'Carter'\n",
    "# Display the result\n",
    "third_character"
   ]
  },
  {
   "cell_type": "code",
   "execution_count": 11,
   "id": "c395603a",
   "metadata": {
    "execution": {
     "iopub.execute_input": "2022-11-16T21:43:54.809984Z",
     "iopub.status.busy": "2022-11-16T21:43:54.809848Z",
     "iopub.status.idle": "2022-11-16T21:43:54.818844Z",
     "shell.execute_reply": "2022-11-16T21:43:54.818502Z"
    }
   },
   "outputs": [],
   "source": [
    "_ = ok.grade('q_peggy_carter')"
   ]
  },
  {
   "cell_type": "markdown",
   "id": "620acbb4",
   "metadata": {},
   "source": [
    "In an [alternative\n",
    "universe](https://en.wikipedia.org/wiki/Alternative_versions_of_Captain_America#Civil_War),\n",
    "our own Captain America has become General America.  Use string methods to\n",
    "substitute \"General\" for \"Captain\" in `another_character`:"
   ]
  },
  {
   "cell_type": "code",
   "execution_count": 12,
   "id": "90a13fa2",
   "metadata": {
    "execution": {
     "iopub.execute_input": "2022-11-16T21:43:54.822692Z",
     "iopub.status.busy": "2022-11-16T21:43:54.822552Z",
     "iopub.status.idle": "2022-11-16T21:43:54.825145Z",
     "shell.execute_reply": "2022-11-16T21:43:54.824821Z"
    }
   },
   "outputs": [],
   "source": [
    "#- Edit the line below to do the substitution.\n",
    "alternative_character = another_character.replace('Captain', 'General')\n",
    "# Display the result\n",
    "alternative_character"
   ]
  },
  {
   "cell_type": "code",
   "execution_count": 13,
   "id": "1d95dfa7",
   "metadata": {
    "execution": {
     "iopub.execute_input": "2022-11-16T21:43:54.826891Z",
     "iopub.status.busy": "2022-11-16T21:43:54.826761Z",
     "iopub.status.idle": "2022-11-16T21:43:54.836078Z",
     "shell.execute_reply": "2022-11-16T21:43:54.835713Z"
    }
   },
   "outputs": [],
   "source": [
    "_ = ok.grade('q_gen_america')"
   ]
  },
  {
   "cell_type": "markdown",
   "id": "420cfd76",
   "metadata": {},
   "source": [
    "## Liking people who like foreigners\n",
    "\n",
    "As everybody now knows, the word for someone who does not like foreigners is\n",
    "[xenophobe](https://en.wikipedia.org/wiki/Xenophobia). It comes from Greek,\n",
    "where \"xenos\" means a stranger or foreigner and \"phobos\" is fear.\n",
    "\n",
    "Similarly, if you like foreigners, you can be a\n",
    "[xenophile](https://en.wikipedia.org/wiki/Xenophilia), where \"philia\" in Greek\n",
    "means love or attraction.\n",
    "\n",
    "Or you could be afraid of people who are afraid of foreigners.  Then you would\n",
    "be a \"xenophobophobe\".  Or you could like people who like foreigners, and be a\n",
    "\"xenophilophile\".\n",
    "\n",
    "Because \"xenophobophobe\" is such a useful word, we will put it in its own\n",
    "variable:"
   ]
  },
  {
   "cell_type": "code",
   "execution_count": 14,
   "id": "55eebc16",
   "metadata": {
    "execution": {
     "iopub.execute_input": "2022-11-16T21:43:54.839209Z",
     "iopub.status.busy": "2022-11-16T21:43:54.839071Z",
     "iopub.status.idle": "2022-11-16T21:43:54.840944Z",
     "shell.execute_reply": "2022-11-16T21:43:54.840614Z"
    }
   },
   "outputs": [],
   "source": [
    "fears_who_fears = \"xenophobophobe\""
   ]
  },
  {
   "cell_type": "markdown",
   "id": "0331ad2c",
   "metadata": {},
   "source": [
    "Use your `replace` skills to turn \"xenophobophobe\" to \"xenophilophile\".  For\n",
    "this question, and the ones below, try and find the smallest bit of text that\n",
    "you can replace."
   ]
  },
  {
   "cell_type": "code",
   "execution_count": 15,
   "id": "d0f2660d",
   "metadata": {
    "execution": {
     "iopub.execute_input": "2022-11-16T21:43:54.842855Z",
     "iopub.status.busy": "2022-11-16T21:43:54.842715Z",
     "iopub.status.idle": "2022-11-16T21:43:54.845242Z",
     "shell.execute_reply": "2022-11-16T21:43:54.844929Z"
    }
   },
   "outputs": [],
   "source": [
    "likes_who_likes = fears_who_fears.replace('ob', 'il')\n",
    "likes_who_likes"
   ]
  },
  {
   "cell_type": "markdown",
   "id": "22d5dab8",
   "metadata": {},
   "source": [
    "But you might have a darker side.  Perhaps you like people who dislike\n",
    "foreigners.  That would be a \"xenophobophile\".   Make that word, using\n",
    "`replace`."
   ]
  },
  {
   "cell_type": "code",
   "execution_count": 16,
   "id": "3a030e92",
   "metadata": {
    "execution": {
     "iopub.execute_input": "2022-11-16T21:43:54.847180Z",
     "iopub.status.busy": "2022-11-16T21:43:54.847037Z",
     "iopub.status.idle": "2022-11-16T21:43:54.849548Z",
     "shell.execute_reply": "2022-11-16T21:43:54.849236Z"
    }
   },
   "outputs": [],
   "source": [
    "likes_who_dislikes = fears_who_fears.replace('obe', 'ile')\n",
    "likes_who_dislikes"
   ]
  },
  {
   "cell_type": "markdown",
   "id": "ee414b01",
   "metadata": {},
   "source": [
    "Use replace on `likes_who_dislikes` above to get \"xenophilophobe\" - someone who\n",
    "is afraid of people who like strangers."
   ]
  },
  {
   "cell_type": "code",
   "execution_count": 17,
   "id": "276d453a",
   "metadata": {
    "execution": {
     "iopub.execute_input": "2022-11-16T21:43:54.851375Z",
     "iopub.status.busy": "2022-11-16T21:43:54.851229Z",
     "iopub.status.idle": "2022-11-16T21:43:54.853830Z",
     "shell.execute_reply": "2022-11-16T21:43:54.853524Z"
    }
   },
   "outputs": [],
   "source": [
    "dislikes_who_likes = likes_who_dislikes.replace('obo', 'ilo').replace('ile', 'obe')\n",
    "dislikes_who_likes"
   ]
  },
  {
   "cell_type": "markdown",
   "id": "d7cd72b1",
   "metadata": {},
   "source": [
    "## Last check"
   ]
  },
  {
   "cell_type": "code",
   "execution_count": 18,
   "id": "d0ac1b81",
   "metadata": {
    "execution": {
     "iopub.execute_input": "2022-11-16T21:43:54.855678Z",
     "iopub.status.busy": "2022-11-16T21:43:54.855539Z",
     "iopub.status.idle": "2022-11-16T21:43:54.909717Z",
     "shell.execute_reply": "2022-11-16T21:43:54.909313Z"
    }
   },
   "outputs": [],
   "source": [
    "# For your convenience, you can run this cell to run all the tests at once.\n",
    "import os\n",
    "_ = [ok.grade(q[:-3]) for q in os.listdir(\"tests\") if q.startswith('q')]"
   ]
  }
 ],
 "metadata": {
  "jupytext": {
   "split_at_heading": true,
   "text_representation": {
    "extension": ".Rmd",
    "format_name": "rmarkdown",
    "format_version": "1.2",
    "jupytext_version": "1.10.3"
   }
  },
  "kernelspec": {
   "display_name": "Python 3 (ipykernel)",
   "language": "python",
   "name": "python3"
  },
  "language_info": {
   "codemirror_mode": {
    "name": "ipython",
    "version": 3
   },
   "file_extension": ".py",
   "mimetype": "text/x-python",
   "name": "python",
   "nbconvert_exporter": "python",
   "pygments_lexer": "ipython3",
   "version": "3.10.7"
  }
 },
 "nbformat": 4,
 "nbformat_minor": 5
}
